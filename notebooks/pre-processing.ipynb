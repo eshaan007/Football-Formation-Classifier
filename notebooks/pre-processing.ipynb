{
 "cells": [
  {
   "cell_type": "code",
   "execution_count": 1,
   "metadata": {},
   "outputs": [],
   "source": [
    "import numpy as np\n",
    "import pandas as pd\n",
    "import matplotlib.pyplot as plt"
   ]
  },
  {
   "cell_type": "code",
   "execution_count": 2,
   "metadata": {},
   "outputs": [
    {
     "name": "stdout",
     "output_type": "stream",
     "text": [
      "        timestamp  tag_id      x_pos      y_pos   heading  direction  \\\n",
      "1             0.0       4  66.376432  34.829683 -1.920454   2.462961   \n",
      "2             0.0       5  49.250835  37.848381 -3.093733   2.746578   \n",
      "3             0.0       6  50.108018   7.670564 -2.723989   2.800532   \n",
      "4             0.0       8  54.919299  47.613906  3.029670   2.900680   \n",
      "5             0.0      11  57.584265  38.440233  2.832617   2.683097   \n",
      "...           ...     ...        ...        ...       ...        ...   \n",
      "493657     2305.0      11  54.195137  40.247683 -1.500097  -1.046535   \n",
      "493658     2305.0      12  40.058306  43.957064  0.210195  -0.437417   \n",
      "493660     2305.0      14  59.547065  31.256923 -0.439922   0.397525   \n",
      "493661     2305.0       1  56.626668  22.002915 -1.447710  -1.502751   \n",
      "493662     2305.0       2  57.256046  43.943287 -1.797140  -0.129198   \n",
      "\n",
      "             energy     speed  total_distance  \n",
      "1       1215.564210  1.088930      832.342371  \n",
      "2        940.508332  2.880416      939.195794  \n",
      "3       1097.954386  2.088841     1073.709590  \n",
      "4       1264.069995  1.829735     1132.739994  \n",
      "5       1120.868255  3.705513      953.612812  \n",
      "...             ...       ...             ...  \n",
      "493657  7624.117687  1.935460     6381.261054  \n",
      "493658  7418.452551  2.257461     6156.683612  \n",
      "493660  6349.070000  2.079451     5600.760419  \n",
      "493661  6464.032250  0.887525     5819.738999  \n",
      "493662  6278.267943  1.042532     6352.365797  \n",
      "\n",
      "[388688 rows x 9 columns]\n"
     ]
    }
   ],
   "source": [
    "# read the dataset and set the index\n",
    "columns = ['timestamp', 'tag_id', 'x_pos', 'y_pos', 'heading', 'direction', 'energy', 'speed', 'total_distance']\n",
    "data = pd.read_csv('../data/input/raw/tromso_tottenham.csv', names=columns)\n",
    "\n",
    "# convert timestamp to second\n",
    "data['timestamp'] = pd.to_datetime(data['timestamp'])\n",
    "data['timestamp'] = data['timestamp'] - data['timestamp'][0]\n",
    "data['timestamp'] = [time.total_seconds() for time in data['timestamp']]\n",
    "\n",
    "# make the list of player id\n",
    "player_ids = data['tag_id'].unique()\n",
    "\n",
    "# remove the entries of the goalkeeper and substitute players\n",
    "x_means = [] # a list of x-position mean for each player\n",
    "y_means = [] # a list of y-position mean for each player\n",
    "for player_id in player_ids:\n",
    "    x_means.append(data['x_pos'][data['tag_id']==player_id].mean())\n",
    "    y_means.append(data['y_pos'][data['tag_id']==player_id].mean())\n",
    "\n",
    "# remove the id of goalkeeper\n",
    "player_ids = np.delete(player_ids, np.argsort(x_means)[0]) # a goalkeeper has the lowest x-position mean\n",
    "# remove the ids of a substitute player\n",
    "player_ids = np.delete(player_ids, np.argsort(y_means)[-3:]) # substitute players have the highest y-position mean\n",
    "data = data[data['tag_id'].isin(player_ids)]\n",
    "\n",
    "print(data)"
   ]
  },
  {
   "cell_type": "code",
   "execution_count": 4,
   "metadata": {},
   "outputs": [],
   "source": [
    "timestamp_quarter = [time for time in data['timestamp'].unique() if time % 0.25 == 0]\n",
    "x_quarter = []\n",
    "y_quarter = []\n",
    "\n",
    "timestamp_new = []\n",
    "x_new = []\n",
    "y_new = []\n",
    "\n",
    "for time in timestamp_quarter:\n",
    "    x_quarter = []\n",
    "    y_quarter = []\n",
    "    for tag_id in data['tag_id'].unique():\n",
    "        x_quarter.append(data['x_pos'][(data['tag_id']==tag_id) & (time<=data['timestamp']) & (data['timestamp']<time+0.25)].mean())\n",
    "        y_quarter.append(data['y_pos'][(data['tag_id']==tag_id) & (time<=data['timestamp']) & (data['timestamp']<time+0.25)].mean())\n",
    "    if (np.nan not in x_quarter) and (np.nan not in y_quarter):\n",
    "        timestamp_new.append(time)\n",
    "        x_new.append(x_quarter)\n",
    "        y_new.append(y_quarter)"
   ]
  },
  {
   "cell_type": "code",
   "execution_count": 10,
   "metadata": {},
   "outputs": [],
   "source": [
    "new_data = pd.DataFrame({'timestamp' : sorted(timestamp_new*10), \n",
    "              'tag_id' : [i for i in data['tag_id'].unique()] * len(timestamp_new),\n",
    "              'x_pos' : [x_pos for sublist in x_new for x_pos in sublist],\n",
    "              'y_pos' : [y_pos for sublist in y_new for y_pos in sublist]})"
   ]
  },
  {
   "cell_type": "code",
   "execution_count": 13,
   "metadata": {},
   "outputs": [
    {
     "data": {
      "text/html": [
       "<div>\n",
       "<style scoped>\n",
       "    .dataframe tbody tr th:only-of-type {\n",
       "        vertical-align: middle;\n",
       "    }\n",
       "\n",
       "    .dataframe tbody tr th {\n",
       "        vertical-align: top;\n",
       "    }\n",
       "\n",
       "    .dataframe thead th {\n",
       "        text-align: right;\n",
       "    }\n",
       "</style>\n",
       "<table border=\"1\" class=\"dataframe\">\n",
       "  <thead>\n",
       "    <tr style=\"text-align: right;\">\n",
       "      <th></th>\n",
       "      <th>timestamp</th>\n",
       "      <th>tag_id</th>\n",
       "      <th>x_pos</th>\n",
       "      <th>y_pos</th>\n",
       "    </tr>\n",
       "  </thead>\n",
       "  <tbody>\n",
       "    <tr>\n",
       "      <th>0</th>\n",
       "      <td>2.0</td>\n",
       "      <td>4</td>\n",
       "      <td>66.950929</td>\n",
       "      <td>33.928899</td>\n",
       "    </tr>\n",
       "    <tr>\n",
       "      <th>1</th>\n",
       "      <td>2.0</td>\n",
       "      <td>5</td>\n",
       "      <td>51.175881</td>\n",
       "      <td>32.666592</td>\n",
       "    </tr>\n",
       "    <tr>\n",
       "      <th>2</th>\n",
       "      <td>2.0</td>\n",
       "      <td>6</td>\n",
       "      <td>51.662418</td>\n",
       "      <td>6.631294</td>\n",
       "    </tr>\n",
       "    <tr>\n",
       "      <th>3</th>\n",
       "      <td>2.0</td>\n",
       "      <td>8</td>\n",
       "      <td>56.301009</td>\n",
       "      <td>44.716114</td>\n",
       "    </tr>\n",
       "    <tr>\n",
       "      <th>4</th>\n",
       "      <td>2.0</td>\n",
       "      <td>11</td>\n",
       "      <td>58.838487</td>\n",
       "      <td>33.070221</td>\n",
       "    </tr>\n",
       "  </tbody>\n",
       "</table>\n",
       "</div>"
      ],
      "text/plain": [
       "   timestamp  tag_id      x_pos      y_pos\n",
       "0        2.0       4  66.950929  33.928899\n",
       "1        2.0       5  51.175881  32.666592\n",
       "2        2.0       6  51.662418   6.631294\n",
       "3        2.0       8  56.301009  44.716114\n",
       "4        2.0      11  58.838487  33.070221"
      ]
     },
     "execution_count": 13,
     "metadata": {},
     "output_type": "execute_result"
    }
   ],
   "source": [
    "new_data.head()"
   ]
  },
  {
   "cell_type": "code",
   "execution_count": 14,
   "metadata": {},
   "outputs": [],
   "source": [
    "new_data.to_csv('../data/input/processed/prepped_tromso_tottenham.csv', index=False)"
   ]
  },
  {
   "cell_type": "code",
   "execution_count": null,
   "metadata": {},
   "outputs": [],
   "source": []
  }
 ],
 "metadata": {
  "kernelspec": {
   "display_name": "Python 3",
   "language": "python",
   "name": "python3"
  },
  "language_info": {
   "codemirror_mode": {
    "name": "ipython",
    "version": 3
   },
   "file_extension": ".py",
   "mimetype": "text/x-python",
   "name": "python",
   "nbconvert_exporter": "python",
   "pygments_lexer": "ipython3",
   "version": "3.8.5"
  }
 },
 "nbformat": 4,
 "nbformat_minor": 2
}
